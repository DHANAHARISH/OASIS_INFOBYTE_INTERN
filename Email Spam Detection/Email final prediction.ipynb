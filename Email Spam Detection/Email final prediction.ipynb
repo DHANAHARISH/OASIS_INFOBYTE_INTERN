{
 "cells": [
  {
   "cell_type": "markdown",
   "id": "4ce3d51b-dfbb-429f-84ea-9e05dac412ab",
   "metadata": {},
   "source": [
    "# Email spam final prediction"
   ]
  },
  {
   "cell_type": "code",
   "execution_count": 1,
   "id": "4da09c65-6d58-4aa1-8f5a-d6c0eab54d78",
   "metadata": {},
   "outputs": [],
   "source": [
    "import numpy as np\n",
    "import pandas as pd \n",
    "import seaborn as sns \n",
    "import joblib as jb\n",
    "from sklearn.metrics import classification_report,confusion_matrix,ConfusionMatrixDisplay"
   ]
  },
  {
   "cell_type": "code",
   "execution_count": 2,
   "id": "19ca749b-3be4-4a6f-bb0e-7bdff639481f",
   "metadata": {},
   "outputs": [],
   "source": [
    "ordinal_encode_model=jb.load('D:/DS NOTE/OASIS INFO BYTE/Email Spam Detection/file/train/model/ordinal_encode_model.pkl')\n",
    "model=jb.load('D:/DS NOTE/OASIS INFO BYTE/Email Spam Detection/file/train/model/dtc_model.pkl')"
   ]
  },
  {
   "cell_type": "code",
   "execution_count": 3,
   "id": "887a17ca-3b5f-4a64-aa07-2c84adc219da",
   "metadata": {},
   "outputs": [],
   "source": [
    "def flow(X_path):\n",
    "    # read\n",
    "    data=pd.read_csv(X_path)\n",
    "    #duplicate remove\n",
    "    data.drop_duplicates()\n",
    "    #drop columns\n",
    "    df=data.drop(['Unnamed: 2','Unnamed: 3','Unnamed: 4'],axis=1)\n",
    "    # Rename\n",
    "    df=df.rename(columns={'v1': 'Label','v2':'Message'})\n",
    "    #Data split\n",
    "    X=df.drop('Label',axis=1).copy()\n",
    "    y=df['Label'].copy()\n",
    "    #mapping\n",
    "    Y=y.replace({'spam':0,'ham':1})\n",
    "    #encoding\n",
    "    ordinal_encode=ordinal_encode_model.transform(X)\n",
    "    ordinal_encode_df=pd.DataFrame(ordinal_encode,columns=X.columns)\n",
    "    #prediction\n",
    "    y_pred=pd.DataFrame(model.predict(ordinal_encode_df))\n",
    "    Y_pred=y_pred.replace({0:'spam',1:'ham'})\n",
    "    Y_pred=Y_pred.rename(columns={0: 'Label'})\n",
    "    #metrices\n",
    "    report=classification_report(y_pred,Y)\n",
    "    cm=confusion_matrix(y_pred,Y)\n",
    "    disp = ConfusionMatrixDisplay(confusion_matrix=cm)\n",
    "\n",
    "\n",
    "    return Y_pred,report,cm,disp"
   ]
  },
  {
   "cell_type": "code",
   "execution_count": 4,
   "id": "1fa17dc3-ec3e-41e3-8859-0cbdbb123345",
   "metadata": {},
   "outputs": [],
   "source": [
    "X_test_path ='D:/DS NOTE/OASIS INFO BYTE/Email Spam Detection/test/raw/test.csv'\n",
    "Y_pred,report,cm,disp=flow(X_test_path)"
   ]
  },
  {
   "cell_type": "code",
   "execution_count": 5,
   "id": "24c3fa34-24e1-4b7b-9302-989699283aeb",
   "metadata": {},
   "outputs": [
    {
     "data": {
      "text/html": [
       "<div>\n",
       "<style scoped>\n",
       "    .dataframe tbody tr th:only-of-type {\n",
       "        vertical-align: middle;\n",
       "    }\n",
       "\n",
       "    .dataframe tbody tr th {\n",
       "        vertical-align: top;\n",
       "    }\n",
       "\n",
       "    .dataframe thead th {\n",
       "        text-align: right;\n",
       "    }\n",
       "</style>\n",
       "<table border=\"1\" class=\"dataframe\">\n",
       "  <thead>\n",
       "    <tr style=\"text-align: right;\">\n",
       "      <th></th>\n",
       "      <th>Label</th>\n",
       "    </tr>\n",
       "  </thead>\n",
       "  <tbody>\n",
       "    <tr>\n",
       "      <th>0</th>\n",
       "      <td>ham</td>\n",
       "    </tr>\n",
       "    <tr>\n",
       "      <th>1</th>\n",
       "      <td>ham</td>\n",
       "    </tr>\n",
       "    <tr>\n",
       "      <th>2</th>\n",
       "      <td>ham</td>\n",
       "    </tr>\n",
       "    <tr>\n",
       "      <th>3</th>\n",
       "      <td>ham</td>\n",
       "    </tr>\n",
       "    <tr>\n",
       "      <th>4</th>\n",
       "      <td>ham</td>\n",
       "    </tr>\n",
       "    <tr>\n",
       "      <th>...</th>\n",
       "      <td>...</td>\n",
       "    </tr>\n",
       "    <tr>\n",
       "      <th>2781</th>\n",
       "      <td>ham</td>\n",
       "    </tr>\n",
       "    <tr>\n",
       "      <th>2782</th>\n",
       "      <td>ham</td>\n",
       "    </tr>\n",
       "    <tr>\n",
       "      <th>2783</th>\n",
       "      <td>ham</td>\n",
       "    </tr>\n",
       "    <tr>\n",
       "      <th>2784</th>\n",
       "      <td>ham</td>\n",
       "    </tr>\n",
       "    <tr>\n",
       "      <th>2785</th>\n",
       "      <td>ham</td>\n",
       "    </tr>\n",
       "  </tbody>\n",
       "</table>\n",
       "<p>2786 rows × 1 columns</p>\n",
       "</div>"
      ],
      "text/plain": [
       "     Label\n",
       "0      ham\n",
       "1      ham\n",
       "2      ham\n",
       "3      ham\n",
       "4      ham\n",
       "...    ...\n",
       "2781   ham\n",
       "2782   ham\n",
       "2783   ham\n",
       "2784   ham\n",
       "2785   ham\n",
       "\n",
       "[2786 rows x 1 columns]"
      ]
     },
     "execution_count": 5,
     "metadata": {},
     "output_type": "execute_result"
    }
   ],
   "source": [
    "Y_pred"
   ]
  },
  {
   "cell_type": "code",
   "execution_count": 6,
   "id": "6e611f94-24be-41f8-9487-29f8af5f7441",
   "metadata": {},
   "outputs": [
    {
     "name": "stdout",
     "output_type": "stream",
     "text": [
      "              precision    recall  f1-score   support\n",
      "\n",
      "           0       0.10      0.84      0.18        45\n",
      "           1       1.00      0.87      0.93      2741\n",
      "\n",
      "    accuracy                           0.87      2786\n",
      "   macro avg       0.55      0.86      0.55      2786\n",
      "weighted avg       0.98      0.87      0.92      2786\n",
      "\n"
     ]
    }
   ],
   "source": [
    "print(report)"
   ]
  },
  {
   "cell_type": "code",
   "execution_count": 7,
   "id": "eda0122d-eca5-491b-8a64-6725bb9cce7a",
   "metadata": {},
   "outputs": [
    {
     "data": {
      "text/plain": [
       "array([[  38,    7],\n",
       "       [ 347, 2394]], dtype=int64)"
      ]
     },
     "execution_count": 7,
     "metadata": {},
     "output_type": "execute_result"
    }
   ],
   "source": [
    "cm"
   ]
  },
  {
   "cell_type": "code",
   "execution_count": 8,
   "id": "7b71df7a-5f5e-4312-928a-94658d6c68e8",
   "metadata": {},
   "outputs": [
    {
     "data": {
      "text/plain": [
       "<sklearn.metrics._plot.confusion_matrix.ConfusionMatrixDisplay at 0x29230d39e70>"
      ]
     },
     "execution_count": 8,
     "metadata": {},
     "output_type": "execute_result"
    },
    {
     "data": {
      "image/png": "[encoded data removed]",
      "text/plain": [
       "<Figure size 640x480 with 2 Axes>"
      ]
     },
     "metadata": {},
     "output_type": "display_data"
    }
   ],
   "source": [
    "disp.plot()"
   ]
  },
  {
   "cell_type": "code",
   "execution_count": null,
   "id": "60ac2ac5-458d-4ba7-9c0a-16668894ed5c",
   "metadata": {},
   "outputs": [],
   "source": []
  }
 ],
 "metadata": {
  "kernelspec": {
   "display_name": "Python 3 (ipykernel)",
   "language": "python",
   "name": "python3"
  },
  "language_info": {
   "codemirror_mode": {
    "name": "ipython",
    "version": 3
   },
   "file_extension": ".py",
   "mimetype": "text/x-python",
   "name": "python",
   "nbconvert_exporter": "python",
   "pygments_lexer": "ipython3",
   "version": "3.10.11"
  }
 },
 "nbformat": 4,
 "nbformat_minor": 5
}
