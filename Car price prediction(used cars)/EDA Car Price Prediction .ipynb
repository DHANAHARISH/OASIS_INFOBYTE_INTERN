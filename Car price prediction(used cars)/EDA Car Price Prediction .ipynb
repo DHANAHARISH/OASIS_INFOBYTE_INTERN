{
 "cells": [
  {
   "cell_type": "markdown",
   "id": "e7cc1b42-2e3e-4b38-bee0-ef551fac01c2",
   "metadata": {},
   "source": [
    "# EDA[Exploratory Data Analysis]\n",
    "\n",
    "- EDA stands for Exploratory Data Analysis. It is an approach to analyzing and visualizing data sets to summarize their main characteristics, often       with the help of statistical graphics and other data visualization methods. The primary goal of EDA is to uncover patterns, relationships, anomalies,   and insights within the data, helping to guide further analysis or hypothesis testing.\n",
    "\n",
    "- **CAR PRICE PREDICTION(Used cars)**\n"
   ]
  },
  {
   "cell_type": "markdown",
   "id": "a17cea73-02d4-442d-8acd-7100d3d2497c",
   "metadata": {},
   "source": [
    "# Importing Libraries:"
   ]
  },
  {
   "cell_type": "code",
   "execution_count": null,
   "id": "6a2996a4-993b-4d55-aff5-1d5bd1aca50a",
   "metadata": {},
   "outputs": [],
   "source": [
    "import pandas as pd\n",
    "import numpy as np\n",
    "import matplotlib.pyplot as plt\n",
    "import seaborn as sns \n"
   ]
  },
  {
   "cell_type": "markdown",
   "id": "bf757170-679d-434f-b55e-17c9e3be5023",
   "metadata": {},
   "source": [
    "# Read data "
   ]
  },
  {
   "cell_type": "code",
   "execution_count": null,
   "id": "06b86e13-b673-4dd9-9846-3202ea1e86e5",
   "metadata": {},
   "outputs": [],
   "source": [
    "pd.set_option('display.max_rows', 200)\n",
    "pd.set_option('display.max_columns',200)"
   ]
  },
  {
   "cell_type": "code",
   "execution_count": null,
   "id": "2d664b8e-4d35-48a2-a73a-a9c473a5e6b0",
   "metadata": {},
   "outputs": [],
   "source": [
    "car_price_data=pd.read_csv('D:/DS NOTE/OASIS INFO BYTE/Car price prediction(used cars)/trian/raw/train.csv')\n",
    "car_price_data"
   ]
  },
  {
   "cell_type": "markdown",
   "id": "218a71a4-75a7-4246-8d1a-026e45982e28",
   "metadata": {},
   "source": [
    "# Data preprocessing"
   ]
  },
  {
   "cell_type": "code",
   "execution_count": null,
   "id": "7d0b8c5e-5ff7-423d-9fa3-df969ecf4ed5",
   "metadata": {},
   "outputs": [],
   "source": [
    "# Print a concise summary of a DataFrame.\n",
    "car_price_data.info()"
   ]
  },
  {
   "cell_type": "code",
   "execution_count": null,
   "id": "793c1ac9-c3a3-4a18-96c3-426e1c91ecf7",
   "metadata": {},
   "outputs": [],
   "source": [
    "car_price_data.head()"
   ]
  },
  {
   "cell_type": "code",
   "execution_count": null,
   "id": "d701c9da-50ba-459d-8087-03e90f10702d",
   "metadata": {},
   "outputs": [],
   "source": [
    "car_price_data.tail()"
   ]
  },
  {
   "cell_type": "code",
   "execution_count": null,
   "id": "39ff4d27-4c82-4776-bf22-9e1dfa18f4b8",
   "metadata": {
    "scrolled": true
   },
   "outputs": [],
   "source": [
    "# Detect missing values\n",
    "car_price_data.isnull().sum()"
   ]
  },
  {
   "cell_type": "code",
   "execution_count": null,
   "id": "f8c23326-8d0f-4188-bd5c-2bb0b82467a1",
   "metadata": {},
   "outputs": [],
   "source": [
    "# denoting duplicate rows\n",
    "car_price_data.duplicated().sum()"
   ]
  },
  {
   "cell_type": "code",
   "execution_count": null,
   "id": "89f60aa5-3811-40fd-ac43-fb84d008528c",
   "metadata": {},
   "outputs": [],
   "source": [
    "# Generate descriptive statistics.\n",
    "car_price_data.describe()"
   ]
  },
  {
   "cell_type": "markdown",
   "id": "7c68dfc2-9db8-430d-85c2-0e3c35c769ac",
   "metadata": {},
   "source": [
    "# Outlier Detection \n",
    "- Detect the outlier in SepalWidthCm , outlier affect the distribution & model also we can remove the outlier\n",
    "  usin Inter quantile range method to caping the outlier"
   ]
  },
  {
   "cell_type": "code",
   "execution_count": null,
   "id": "e297d54d-2042-48ec-97e7-0b9aee93ae0e",
   "metadata": {},
   "outputs": [],
   "source": [
    "for column in car_price_data.columns:\n",
    "    if car_price_data[column].dtype!='object':\n",
    "        plt.figure(figsize=(10,5))\n",
    "        sns.boxplot(y=column,data=car_price_data)\n",
    "        plt.title(f'Boxplot of {column}')\n",
    "        plt.show()\n",
    "\n"
   ]
  },
  {
   "cell_type": "markdown",
   "id": "aaea6a21-10ed-4863-b828-454347102935",
   "metadata": {},
   "source": [
    "# IQR[Inter Quantile Range]Method\n",
    " - HANDLING OUTLIER"
   ]
  },
  {
   "cell_type": "code",
   "execution_count": null,
   "id": "be37a98c-b1ec-4500-ae1e-2191e04847da",
   "metadata": {},
   "outputs": [],
   "source": [
    "Outlier_list= {}"
   ]
  },
  {
   "cell_type": "code",
   "execution_count": null,
   "id": "b8a7e5b0-5781-41e1-b87a-b7907d5d6bf1",
   "metadata": {},
   "outputs": [],
   "source": [
    "for column in ['Year', 'Selling_Price', 'Present_Price', 'Driven_kms', 'Owner']:\n",
    "    q1=car_price_data[column].quantile(0.25)\n",
    "    q3=car_price_data[column].quantile(0.75)\n",
    "    IQR=q3-q1\n",
    "    lower_range=q1-(1.5*IQR)\n",
    "    upper_range=q3+(1.5*IQR)\n",
    "    #capping \n",
    "    car_price_data[column]=np.where(car_price_data[column]<lower_range,lower_range,\n",
    "                                    np.where(car_price_data[column]>upper_range,upper_range,\n",
    "                                             car_price_data[column]))\n",
    "    \n",
    "    Outlier_list[column]= {'q1':q1,'q3':q3,'IQR':IQR,'lower_range':lower_range, 'upper_range':upper_range}\n"
   ]
  },
  {
   "cell_type": "code",
   "execution_count": null,
   "id": "a3e30b84-b14f-4afc-9a7b-afc63c5def87",
   "metadata": {},
   "outputs": [],
   "source": [
    "for column, values in Outlier_list.items():\n",
    "    print(f\"Column: {column}\\nq1:{values['q1']} \\nq3:{values['q3']} \\nIQR:{values['IQR']} \\nlower_range:{values['lower_range']} \\nupper_range:{values['upper_range']}\\n-----------------------\")\n",
    "\n",
    "    "
   ]
  },
  {
   "cell_type": "markdown",
   "id": "098047da-3925-4154-8271-fff3398b3320",
   "metadata": {},
   "source": [
    "# After handling outlier"
   ]
  },
  {
   "cell_type": "code",
   "execution_count": null,
   "id": "16f718df-5a1f-4e6b-9a20-e2eaa70be8f5",
   "metadata": {},
   "outputs": [],
   "source": [
    "for column in car_price_data.columns:\n",
    "    if car_price_data[column].dtype!='object':\n",
    "        plt.figure(figsize=(10,5))\n",
    "        sns.boxplot(y=column,data=car_price_data)\n",
    "        plt.title(f'Boxplot of {column}')\n",
    "        plt.show()\n"
   ]
  },
  {
   "cell_type": "markdown",
   "id": "0efcf035-a9c7-478b-bd9c-fea1d6da10b2",
   "metadata": {},
   "source": [
    "# Correlation B/W XandY \n",
    "- check any correlation betweeen Feature and target, Because data point correlated with only feature not in target\n",
    "- If correlated with feature and target it will affect the model prediction "
   ]
  },
  {
   "cell_type": "code",
   "execution_count": null,
   "id": "e125303a-9b9e-467c-82a6-6070fa3fd19a",
   "metadata": {},
   "outputs": [],
   "source": [
    "\n",
    "# Label encode categorical columns\n",
    "cat_columns = car_price_data.select_dtypes(include=['object']).columns\n",
    "for col in cat_columns:\n",
    "    car_price_data[col] = car_price_data[col].astype('category').cat.codes"
   ]
  },
  {
   "cell_type": "code",
   "execution_count": null,
   "id": "56e4b809-bb90-4297-a390-29e31022d5a4",
   "metadata": {},
   "outputs": [],
   "source": [
    "# Create a correlation matrix\n",
    "corr_matrix = car_price_data.corr()"
   ]
  },
  {
   "cell_type": "code",
   "execution_count": null,
   "id": "fff63794-2e5a-4889-bc2a-90ecc2e91495",
   "metadata": {},
   "outputs": [],
   "source": [
    "# Create a heatmap\n",
    "plt.figure(figsize=(10, 8))\n",
    "sns.heatmap(corr_matrix, annot=True, cmap='Blues', fmt='.2f', linewidths=0.5, linecolor='green')\n",
    "plt.title('Correlation Matrix')\n",
    "plt.show()\n"
   ]
  },
  {
   "cell_type": "markdown",
   "id": "dc5453e0-43fe-4b0a-a393-8b9c62ab1293",
   "metadata": {},
   "source": [
    "- The data point have postive correlation\n"
   ]
  },
  {
   "cell_type": "code",
   "execution_count": null,
   "id": "fed77a82-7d81-4777-8547-af86f3239abf",
   "metadata": {},
   "outputs": [],
   "source": [
    "#Year-wise car count\n",
    "plt.figure(figsize=(12, 6))\n",
    "sns.countplot(x='Year',data=car_price_data)\n",
    "plt.title('Number of Cars for Each Year')\n",
    "plt.xlabel('Year')\n",
    "plt.ylabel('No.of.Count car')\n",
    "plt.show()"
   ]
  },
  {
   "cell_type": "code",
   "execution_count": null,
   "id": "11376d59-81f2-470a-9057-c83f282b1f7c",
   "metadata": {},
   "outputs": [],
   "source": [
    "# Distribution of Selling Prices\n",
    "plt.figure(figsize=(12, 6))\n",
    "sns.histplot(car_price_data['Selling_Price'], bins=10, kde=True)\n",
    "plt.title('Distribution of Selling Prices')\n",
    "plt.xlabel('Selling Price')\n",
    "plt.ylabel('Frequency')\n",
    "plt.show()"
   ]
  },
  {
   "cell_type": "code",
   "execution_count": null,
   "id": "ac33fb13-6c7f-41db-97bf-c29be5e3f280",
   "metadata": {},
   "outputs": [],
   "source": [
    "car_price_data['Fuel_Type'] = car_price_data['Fuel_Type'].map({1: 'petrol', 2: 'diesel'})\n"
   ]
  },
  {
   "cell_type": "code",
   "execution_count": null,
   "id": "8e379e30-6ee4-43f3-accc-5738f3ee0f63",
   "metadata": {},
   "outputs": [],
   "source": [
    "# Boxplot of Selling Prices for each Fuel Type\n",
    "plt.figure(figsize=(12, 6))\n",
    "sns.boxplot(x='Fuel_Type', y='Selling_Price', data=car_price_data,hue='Fuel_Type')\n",
    "plt.title('Boxplot of Selling Prices for Each Fuel Type')\n",
    "plt.xlabel('Fuel Type')\n",
    "plt.ylabel('Selling Price')\n",
    "plt.show()\n"
   ]
  },
  {
   "cell_type": "code",
   "execution_count": null,
   "id": "6db2ec5f-d788-42e9-b5b6-8923f2f03cf4",
   "metadata": {},
   "outputs": [],
   "source": [
    "# Scatter plot of Present Price vs Selling Price\n",
    "plt.figure(figsize=(12, 6))\n",
    "sns.scatterplot(x='Present_Price', y='Selling_Price', data=car_price_data)\n",
    "plt.title('Present Price vs Selling Price')\n",
    "plt.xlabel('Present Price')\n",
    "plt.ylabel('Selling Price')\n",
    "plt.show()"
   ]
  },
  {
   "cell_type": "code",
   "execution_count": null,
   "id": "4a589748-3785-4520-930b-89b5b9038354",
   "metadata": {},
   "outputs": [],
   "source": [
    "car_price_data['Transmission'] = car_price_data['Transmission'].map({0: 'Manul', 1: 'Automatic'})"
   ]
  },
  {
   "cell_type": "code",
   "execution_count": null,
   "id": "a9dc53ff-4de4-45da-a381-fd5497d151a7",
   "metadata": {},
   "outputs": [],
   "source": [
    "# Transmission-wise car count\n",
    "plt.figure(figsize=(8, 6))\n",
    "sns.countplot(x='Transmission', data=car_price_data,hue='Transmission')\n",
    "plt.title('Number of Cars by Transmission Type')\n",
    "plt.xlabel('Transmission Type')\n",
    "plt.ylabel('Count')\n",
    "plt.show()"
   ]
  },
  {
   "cell_type": "code",
   "execution_count": null,
   "id": "fe7ecaa5-1712-4839-8d1a-c8f33fa4b517",
   "metadata": {},
   "outputs": [],
   "source": [
    "\n",
    "# Visualization 6: Bar chart of Fuel Type distribution\n",
    "plt.figure(figsize=(8, 6))\n",
    "car_price_data['Fuel_Type'].value_counts().plot(kind='bar')\n",
    "plt.title('Fuel Type Distribution')\n",
    "plt.xlabel('Fuel Type')\n",
    "plt.ylabel('Count')\n",
    "plt.show()\n"
   ]
  },
  {
   "cell_type": "code",
   "execution_count": null,
   "id": "7585fe87-aa60-4ca7-966f-ae141ab5a025",
   "metadata": {},
   "outputs": [],
   "source": [
    "# Pair plot for numerical variables\n",
    "sns.pairplot(car_price_data[['Year', 'Selling_Price', 'Present_Price', 'Driven_kms']])\n",
    "plt.suptitle('Pair Plot of Numerical Variables', y=1.02)\n",
    "plt.show()\n"
   ]
  },
  {
   "cell_type": "code",
   "execution_count": null,
   "id": "812fb81f-34ed-49cd-a936-d5d252d3f1d0",
   "metadata": {},
   "outputs": [],
   "source": [
    "# Count plot of Fuel Type with Transmission as hue\n",
    "plt.figure(figsize=(12, 6))\n",
    "sns.countplot(x='Fuel_Type', hue='Transmission', data=car_price_data)\n",
    "plt.title('Count of Cars by Fuel Type with Transmission as Hue')\n",
    "plt.xlabel('Fuel Type')\n",
    "plt.ylabel('Count')\n",
    "plt.show()"
   ]
  },
  {
   "cell_type": "code",
   "execution_count": null,
   "id": "efb90e4c-d4fb-42f5-8495-9267e107e8a8",
   "metadata": {},
   "outputs": [],
   "source": [
    "# Boxplot of Selling Prices for each Selling Type\n",
    "plt.figure(figsize=(12, 6))\n",
    "sns.boxplot(x='Selling_type', y='Selling_Price', data=car_price_data)\n",
    "plt.title('Boxplot of Selling Prices for Each Selling Type')\n",
    "plt.xlabel('Selling Type')\n",
    "plt.ylabel('Selling Price')\n",
    "plt.show()\n"
   ]
  }
 ],
 "metadata": {
  "kernelspec": {
   "display_name": "Python 3 (ipykernel)",
   "language": "python",
   "name": "python3"
  },
  "language_info": {
   "codemirror_mode": {
    "name": "ipython",
    "version": 3
   },
   "file_extension": ".py",
   "mimetype": "text/x-python",
   "name": "python",
   "nbconvert_exporter": "python",
   "pygments_lexer": "ipython3",
   "version": "3.10.11"
  }
 },
 "nbformat": 4,
 "nbformat_minor": 5
}
