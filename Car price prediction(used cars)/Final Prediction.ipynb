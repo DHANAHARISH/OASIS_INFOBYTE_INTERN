{
 "cells": [
  {
   "cell_type": "code",
   "execution_count": 1,
   "id": "6007d90c-fb97-4846-a16f-6667c2a82dab",
   "metadata": {},
   "outputs": [],
   "source": [
    "import pandas as pd \n",
    "import numpy as np\n",
    "import joblib as jb\n",
    "import seaborn as sns \n",
    "import matplotlib.pyplot as plt\n",
    "from sklearn.metrics import mean_squared_error,mean_absolute_error,r2_score\n",
    "import warnings\n",
    "warnings.filterwarnings('ignore')"
   ]
  },
  {
   "cell_type": "code",
   "execution_count": 2,
   "id": "33a86720-b6ea-4774-850c-8485058ca65c",
   "metadata": {},
   "outputs": [],
   "source": [
    "encode_model=jb.load('D:/DS NOTE/OASIS INFO BYTE/Car price prediction(used cars)/trian/model/ordinal_encode_model.pkl')\n",
    "Model=jb.load('D:/DS NOTE/OASIS INFO BYTE/Car price prediction(used cars)/trian/model/rf_train_model.pkl')"
   ]
  },
  {
   "cell_type": "code",
   "execution_count": 16,
   "id": "fd3f74e4-8c2b-4c5c-b48f-8e5bb1bf6bf7",
   "metadata": {},
   "outputs": [],
   "source": [
    "def flow(X_path):\n",
    "    # read \n",
    "    data = pd.read_csv(X_path)\n",
    "    # Outlier handling\n",
    "    for column in ['Year', 'Selling_Price', 'Present_Price', 'Driven_kms', 'Owner']:\n",
    "        q1 =  data[column].quantile(0.25)\n",
    "        q3 =  data[column].quantile(0.75)\n",
    "        IQR = q3 - q1\n",
    "        lower_range = q1 - (1.5 * IQR)\n",
    "        upper_range = q3 + (1.5 * IQR)\n",
    "        # Capping \n",
    "        data[column] = np.where(data[column] < lower_range, lower_range,\n",
    "                       np.where(data[column] > upper_range, upper_range,\n",
    "                                data[column]))\n",
    "    # Data split \n",
    "    df=data.copy()\n",
    "    X = df.drop('Selling_Price', axis=1)\n",
    "    Y_test = df['Selling_Price']\n",
    "\n",
    "    # Encode\n",
    "    ordinal_encode = encode_model.transform(X)\n",
    "    ordinal_encode_df = pd.DataFrame(ordinal_encode, columns=X.columns)\n",
    "\n",
    "    # Prediction\n",
    "    y_pred = pd.DataFrame(Model.predict(ordinal_encode_df))\n",
    "    y_pred = y_pred.rename(columns={0: 'Selling_Price'})\n",
    "\n",
    "    # Metrics\n",
    "    MSE = mean_squared_error(Y_test, y_pred)\n",
    "    RMSE = np.sqrt(MSE)\n",
    "    MAE = mean_absolute_error(Y_test, y_pred)\n",
    "    R2 = r2_score(Y_test, y_pred)\n",
    "\n",
    "    return Y_test,y_pred, MSE, RMSE, MAE, R2\n",
    "\n",
    "\n"
   ]
  },
  {
   "cell_type": "code",
   "execution_count": 17,
   "id": "67e9ea1b-2291-4ed2-bea7-c7fc3b457680",
   "metadata": {},
   "outputs": [],
   "source": [
    "X_test_path = 'D:/DS NOTE/OASIS INFO BYTE/Car price prediction(used cars)/test/raw/test.csv'\n",
    "Y_test,y_pred, MSE, RMSE, MAE, R2 = flow(X_test_path)"
   ]
  },
  {
   "cell_type": "code",
   "execution_count": 18,
   "id": "4afb2e0b-b7a6-4e07-808f-469957128fea",
   "metadata": {},
   "outputs": [
    {
     "data": {
      "text/html": [
       "<div>\n",
       "<style scoped>\n",
       "    .dataframe tbody tr th:only-of-type {\n",
       "        vertical-align: middle;\n",
       "    }\n",
       "\n",
       "    .dataframe tbody tr th {\n",
       "        vertical-align: top;\n",
       "    }\n",
       "\n",
       "    .dataframe thead th {\n",
       "        text-align: right;\n",
       "    }\n",
       "</style>\n",
       "<table border=\"1\" class=\"dataframe\">\n",
       "  <thead>\n",
       "    <tr style=\"text-align: right;\">\n",
       "      <th></th>\n",
       "      <th>Selling_Price</th>\n",
       "    </tr>\n",
       "  </thead>\n",
       "  <tbody>\n",
       "    <tr>\n",
       "      <th>0</th>\n",
       "      <td>3.814719</td>\n",
       "    </tr>\n",
       "    <tr>\n",
       "      <th>1</th>\n",
       "      <td>4.228213</td>\n",
       "    </tr>\n",
       "    <tr>\n",
       "      <th>2</th>\n",
       "      <td>3.629867</td>\n",
       "    </tr>\n",
       "    <tr>\n",
       "      <th>3</th>\n",
       "      <td>3.814472</td>\n",
       "    </tr>\n",
       "    <tr>\n",
       "      <th>4</th>\n",
       "      <td>4.075193</td>\n",
       "    </tr>\n",
       "    <tr>\n",
       "      <th>...</th>\n",
       "      <td>...</td>\n",
       "    </tr>\n",
       "    <tr>\n",
       "      <th>96</th>\n",
       "      <td>4.113373</td>\n",
       "    </tr>\n",
       "    <tr>\n",
       "      <th>97</th>\n",
       "      <td>6.519874</td>\n",
       "    </tr>\n",
       "    <tr>\n",
       "      <th>98</th>\n",
       "      <td>3.128466</td>\n",
       "    </tr>\n",
       "    <tr>\n",
       "      <th>99</th>\n",
       "      <td>5.862292</td>\n",
       "    </tr>\n",
       "    <tr>\n",
       "      <th>100</th>\n",
       "      <td>3.743775</td>\n",
       "    </tr>\n",
       "  </tbody>\n",
       "</table>\n",
       "<p>101 rows × 1 columns</p>\n",
       "</div>"
      ],
      "text/plain": [
       "     Selling_Price\n",
       "0         3.814719\n",
       "1         4.228213\n",
       "2         3.629867\n",
       "3         3.814472\n",
       "4         4.075193\n",
       "..             ...\n",
       "96        4.113373\n",
       "97        6.519874\n",
       "98        3.128466\n",
       "99        5.862292\n",
       "100       3.743775\n",
       "\n",
       "[101 rows x 1 columns]"
      ]
     },
     "execution_count": 18,
     "metadata": {},
     "output_type": "execute_result"
    }
   ],
   "source": [
    "y_pred"
   ]
  },
  {
   "cell_type": "code",
   "execution_count": 19,
   "id": "5887d63c-b31a-42cd-ad9e-2e79dba124f2",
   "metadata": {},
   "outputs": [
    {
     "data": {
      "text/plain": [
       "10.752756180960185"
      ]
     },
     "execution_count": 19,
     "metadata": {},
     "output_type": "execute_result"
    }
   ],
   "source": [
    "MSE"
   ]
  },
  {
   "cell_type": "code",
   "execution_count": 20,
   "id": "8424914d-0632-41d9-a0db-6f13339476b4",
   "metadata": {},
   "outputs": [
    {
     "data": {
      "text/plain": [
       "3.279139548869518"
      ]
     },
     "execution_count": 20,
     "metadata": {},
     "output_type": "execute_result"
    }
   ],
   "source": [
    "RMSE"
   ]
  },
  {
   "cell_type": "code",
   "execution_count": 21,
   "id": "745a78ca-a869-4501-9d4e-7d0e630aa727",
   "metadata": {},
   "outputs": [
    {
     "data": {
      "text/plain": [
       "1.9911146197877705"
      ]
     },
     "execution_count": 21,
     "metadata": {},
     "output_type": "execute_result"
    }
   ],
   "source": [
    "MAE"
   ]
  },
  {
   "cell_type": "code",
   "execution_count": 22,
   "id": "51c7ddfc-8f1d-4e8e-b770-b71ec93c8eaa",
   "metadata": {},
   "outputs": [
    {
     "data": {
      "text/plain": [
       "-0.014186256101741401"
      ]
     },
     "execution_count": 22,
     "metadata": {},
     "output_type": "execute_result"
    }
   ],
   "source": [
    "R2"
   ]
  },
  {
   "cell_type": "code",
   "execution_count": 24,
   "id": "32f4a5ff-9e54-45cb-9df6-f41498376d69",
   "metadata": {},
   "outputs": [
    {
     "data": {
      "image/png": "[encoded data removed]",
      "text/plain": [
       "<Figure size 640x480 with 1 Axes>"
      ]
     },
     "metadata": {},
     "output_type": "display_data"
    }
   ],
   "source": [
    "plt.scatter(Y_test, y_pred)\n",
    "plt.plot([min(Y_test), max(Y_test)], [min(Y_test), max(Y_test)], linestyle='--', color='red', linewidth=2)\n",
    "plt.title(\"Actual vs. Predicted Car Prices\")\n",
    "plt.xlabel(\"Actual Prices\")\n",
    "plt.ylabel(\"Predicted Prices\")\n",
    "plt.show()\n"
   ]
  },
  {
   "cell_type": "code",
   "execution_count": null,
   "id": "776efbb2-05a1-47cc-95d9-41a955f5d7db",
   "metadata": {},
   "outputs": [],
   "source": []
  },
  {
   "cell_type": "code",
   "execution_count": null,
   "id": "4390ab8c-f2d7-4faf-9d39-c8b678190d35",
   "metadata": {},
   "outputs": [],
   "source": []
  }
 ],
 "metadata": {
  "kernelspec": {
   "display_name": "Python 3 (ipykernel)",
   "language": "python",
   "name": "python3"
  },
  "language_info": {
   "codemirror_mode": {
    "name": "ipython",
    "version": 3
   },
   "file_extension": ".py",
   "mimetype": "text/x-python",
   "name": "python",
   "nbconvert_exporter": "python",
   "pygments_lexer": "ipython3",
   "version": "3.10.11"
  }
 },
 "nbformat": 4,
 "nbformat_minor": 5
}
